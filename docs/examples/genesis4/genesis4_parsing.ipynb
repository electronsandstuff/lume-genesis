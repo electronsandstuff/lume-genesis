{
 "cells": [
  {
   "cell_type": "markdown",
   "id": "564eb3f0-cd9b-42c2-8e32-0d88167adcc7",
   "metadata": {},
   "source": [
    "# Genesis4 Parsing"
   ]
  },
  {
   "cell_type": "code",
   "execution_count": 80,
   "id": "aaf37069-8318-4c6a-9083-d3808e3b1a9a",
   "metadata": {},
   "outputs": [
    {
     "name": "stdout",
     "output_type": "stream",
     "text": [
      "The autoreload extension is already loaded. To reload it, use:\n",
      "  %reload_ext autoreload\n"
     ]
    }
   ],
   "source": [
    "%load_ext autoreload\n",
    "%autoreload 2"
   ]
  },
  {
   "cell_type": "code",
   "execution_count": 81,
   "id": "c19503ec-963d-42af-b43b-49990a524b28",
   "metadata": {},
   "outputs": [],
   "source": [
    "FILE = '../examples/data/basic4/cu_hxr.in'"
   ]
  },
  {
   "cell_type": "code",
   "execution_count": 82,
   "id": "beacce56-0063-4c9e-bea3-f972b08591ce",
   "metadata": {},
   "outputs": [],
   "source": [
    "def expand_path(file, path=None):\n",
    "    if not os.path.isabs(file):\n",
    "        file = os.path.join(path, file)\n",
    "    return tools.full_path(file)"
   ]
  },
  {
   "cell_type": "code",
   "execution_count": 93,
   "id": "9208f1ff-e09a-4f00-ad83-861ef0e575d5",
   "metadata": {},
   "outputs": [
    {
     "data": {
      "text/plain": [
       "[{'type': 'setup',\n",
       "  'rootname': 'LCLS2_HXR_9keV',\n",
       "  'lattice': '/Users/chrisonian/Code/GitHub/lume-genesis/examples/data/basic4/hxr.lat',\n",
       "  'beamline': 'HXR',\n",
       "  'lambda0': 1.3789244869952112e-10,\n",
       "  'gamma0': 19174.0776,\n",
       "  'delz': 0.026,\n",
       "  'seed': 84672,\n",
       "  'npart': 1024},\n",
       " {'type': 'time', 'slen': 1.5e-05, 'sample': 200},\n",
       " {'type': 'field', 'dgrid': 0.0001, 'ngrid': 101, 'accumulate': True},\n",
       " {'type': 'profile_file',\n",
       "  'label': 'beamcurrent',\n",
       "  'xdata': array([0.00000000e+00, 7.50037502e-10, 1.50007500e-09, ...,\n",
       "         1.49984999e-05, 1.49992500e-05, 1.50000000e-05]),\n",
       "  'ydata': array([2.65147892, 2.65521019, 2.65894633, ..., 2.65894633, 2.65521019,\n",
       "         2.65147892])},\n",
       " {'type': 'profile_file',\n",
       "  'label': 'beamgamma',\n",
       "  'xdata': array([0.00000000e+00, 7.50037502e-10, 1.50007500e-09, ...,\n",
       "         1.49984999e-05, 1.49992500e-05, 1.50000000e-05]),\n",
       "  'ydata': array([19394.23415577, 19394.21213902, 19394.19012226, ...,\n",
       "         18953.96507774, 18953.94306098, 18953.92104423])},\n",
       " {'type': 'beam',\n",
       "  'current': '@beamcurrent',\n",
       "  'gamma': '@beamgamma',\n",
       "  'delgam': 3.97848,\n",
       "  'ex': 4e-07,\n",
       "  'ey': 4e-07,\n",
       "  'alphax': -0.7393217413918415,\n",
       "  'betax': 7.910909406464387,\n",
       "  'alphay': 1.3870723536888105,\n",
       "  'betay': 16.881178621346898},\n",
       " {'type': 'track', 'field_dump_at_undexit': False, 'zstop': 10}]"
      ]
     },
     "execution_count": 93,
     "metadata": {},
     "output_type": "execute_result"
    }
   ],
   "source": [
    "from genesis.version4.parsers import parse_main_input\n",
    "MAIN = parse_main_input(FILE)\n",
    "MAIN"
   ]
  },
  {
   "cell_type": "code",
   "execution_count": 100,
   "id": "668d1679-262a-4634-8122-95bb1192b536",
   "metadata": {},
   "outputs": [],
   "source": []
  },
  {
   "cell_type": "code",
   "execution_count": 97,
   "id": "41592302-1a65-4fe8-89ef-96920204ae70",
   "metadata": {},
   "outputs": [],
   "source": [
    "def write_profile_files(profile_dict, path):\n",
    "    file = os.path.join(path, profile_dict['label']+'.h5')\n",
    "    with h5py.File(file, 'w') as h5:\n",
    "        for k in ['xdata', 'ydata']:\n",
    "            h5[k] = profile_dict[k]\n",
    "write_profile_files(MAIN[4], 'test/')"
   ]
  },
  {
   "cell_type": "code",
   "execution_count": 98,
   "id": "ae2a2276-0827-4cc4-877f-199dc4b7fbc8",
   "metadata": {},
   "outputs": [
    {
     "name": "stdout",
     "output_type": "stream",
     "text": [
      "beamgamma.h5\n"
     ]
    }
   ],
   "source": [
    "!ls test"
   ]
  },
  {
   "cell_type": "code",
   "execution_count": null,
   "id": "52c294ec-21d9-4737-a4e1-6772c954c570",
   "metadata": {},
   "outputs": [],
   "source": [
    "\n",
    "\n",
    "def expand_paths(main_list):\n",
    "    for d in main_list:\n",
    "        if d['type'] "
   ]
  },
  {
   "cell_type": "code",
   "execution_count": 30,
   "id": "83d6aa01-d371-4cba-85e2-bcaae7a6ce68",
   "metadata": {},
   "outputs": [],
   "source": [
    "from lume.parsers.namelist import namelist_lines\n",
    "from lume.tools import full_path\n",
    "import shutil\n",
    "import os"
   ]
  },
  {
   "cell_type": "code",
   "execution_count": 31,
   "id": "fc149865-9231-4a30-9052-cb5d7dc178da",
   "metadata": {},
   "outputs": [],
   "source": [
    "with open('test.in', 'w') as f:\n",
    "    for d in MAIN:\n",
    "        d = d.copy()\n",
    "        name = d.pop('type')\n",
    "        f.write('\\n')\n",
    "        lines = namelist_lines(d, name, end='&end', strip_strings=True)\n",
    "        for line in lines:\n",
    "            f.write(line+'\\n')"
   ]
  },
  {
   "cell_type": "code",
   "execution_count": 27,
   "id": "52576fc0-dcaa-4019-bbac-9622316f7a55",
   "metadata": {},
   "outputs": [
    {
     "ename": "AssertionError",
     "evalue": "/Users/chrisonian/Code/GitHub/lume-genesis/examples/hxr.lat",
     "output_type": "error",
     "traceback": [
      "\u001b[0;31m---------------------------------------------------------------------------\u001b[0m",
      "\u001b[0;31mAssertionError\u001b[0m                            Traceback (most recent call last)",
      "Cell \u001b[0;32mIn[27], line 8\u001b[0m\n\u001b[1;32m      6\u001b[0m     \u001b[38;5;28;01mcontinue\u001b[39;00m\n\u001b[1;32m      7\u001b[0m file \u001b[38;5;241m=\u001b[39m full_path(d[k])\n\u001b[0;32m----> 8\u001b[0m \u001b[38;5;28;01massert\u001b[39;00m os\u001b[38;5;241m.\u001b[39mpath\u001b[38;5;241m.\u001b[39mexists(file), file\n\u001b[1;32m      9\u001b[0m \u001b[38;5;28mprint\u001b[39m(v)\n",
      "\u001b[0;31mAssertionError\u001b[0m: /Users/chrisonian/Code/GitHub/lume-genesis/examples/hxr.lat"
     ]
    }
   ],
   "source": [
    "FILEKEYS = ['lattice']\n",
    "\n",
    "for d in MAIN:\n",
    "    for k in d:\n",
    "        if k not in FILEKEYS:\n",
    "            continue\n",
    "        file = full_path(d[k])\n",
    "        assert os.path.exists(file), file\n",
    "        print(v)\n"
   ]
  },
  {
   "cell_type": "code",
   "execution_count": 23,
   "id": "2278bb80-8242-4331-97cf-812582e287a8",
   "metadata": {},
   "outputs": [
    {
     "data": {
      "text/plain": [
       "('/afafa/faaf/afafa', 'fafa')"
      ]
     },
     "execution_count": 23,
     "metadata": {},
     "output_type": "execute_result"
    }
   ],
   "source": [
    "os.path.split('/afafa/faaf/afafa/fafa')"
   ]
  },
  {
   "cell_type": "code",
   "execution_count": null,
   "id": "dda576f6-9b91-4abd-a0db-2e25d688602b",
   "metadata": {},
   "outputs": [],
   "source": [
    "!cat test.in"
   ]
  },
  {
   "cell_type": "code",
   "execution_count": null,
   "id": "c8285c59-d6e5-489e-b383-c42eb4d34c9e",
   "metadata": {},
   "outputs": [],
   "source": [
    "LINES = parse_simple_namelist(FILE)\n",
    "NAMES, DICTS = parse_unrolled_namelist(LINES, end='&end')"
   ]
  },
  {
   "cell_type": "code",
   "execution_count": null,
   "id": "08a4c0cd-f9dc-41c2-9bea-73128b8b33e4",
   "metadata": {},
   "outputs": [],
   "source": [
    "!mkdir test"
   ]
  },
  {
   "cell_type": "markdown",
   "id": "6327eb7d-c03b-4e05-8fb3-d2fb5a7877bb",
   "metadata": {},
   "source": [
    "# H5 files"
   ]
  },
  {
   "cell_type": "code",
   "execution_count": 90,
   "id": "0c7cb8b1-48b8-46c7-9571-8f61c3d619d0",
   "metadata": {},
   "outputs": [],
   "source": [
    "import h5py\n",
    "import os\n",
    "import numpy as np\n",
    "\n",
    "from genesis.version4.parsers import parse_genesis4_h5filegroup"
   ]
  },
  {
   "cell_type": "code",
   "execution_count": 39,
   "id": "932e8991-5a72-41c4-b048-1fddb48cdee3",
   "metadata": {},
   "outputs": [],
   "source": [
    "with h5py.File('test.h5', 'w') as h5:\n",
    "    h5['x'] = [1,2,3]\n",
    "    h5.create_group('g1')\n",
    "    h5['g1']['y'] = [3,4,5]"
   ]
  },
  {
   "cell_type": "code",
   "execution_count": 41,
   "id": "547d037e-2ccf-456c-a127-708b7089b781",
   "metadata": {},
   "outputs": [
    {
     "name": "stdout",
     "output_type": "stream",
     "text": [
      "<HDF5 dataset \"x\": shape (3,), type \"<i8\">\n",
      "<HDF5 dataset \"y\": shape (3,), type \"<i8\">\n"
     ]
    }
   ],
   "source": [
    "with h5py.File('test.h5', 'r') as h5:\n",
    "    print(h5['x'])\n",
    "    print(h5['g1/y'])"
   ]
  },
  {
   "cell_type": "code",
   "execution_count": 45,
   "id": "5cfa652d-0008-479b-9f52-0eb205cf3122",
   "metadata": {},
   "outputs": [
    {
     "data": {
      "text/plain": [
       "True"
      ]
     },
     "execution_count": 45,
     "metadata": {},
     "output_type": "execute_result"
    }
   ],
   "source": [
    "os.path.isabs('/fafa/')"
   ]
  },
  {
   "cell_type": "code",
   "execution_count": 86,
   "id": "5ff879d8-d173-4c38-b73d-5b6d836a50e2",
   "metadata": {},
   "outputs": [
    {
     "data": {
      "text/plain": [
       "('///Users/chrisonian/Code/GitHub/lume-genesis/examples/data/basic4/beam_gamma.h5',\n",
       " 's')"
      ]
     },
     "execution_count": 86,
     "metadata": {},
     "output_type": "execute_result"
    }
   ],
   "source": [
    "H5G = '/Users/chrisonian/Code/GitHub/lume-genesis/examples/data/basic4/beam_gamma.h5/s'\n",
    "parse_genesis4_h5filegroup(H5G)"
   ]
  },
  {
   "cell_type": "code",
   "execution_count": 92,
   "id": "c87afe94-5001-4a60-bb1b-2d86967abd42",
   "metadata": {},
   "outputs": [
    {
     "data": {
      "text/plain": [
       "array([0.00000000e+00, 7.50037502e-10, 1.50007500e-09, ...,\n",
       "       1.49984999e-05, 1.49992500e-05, 1.50000000e-05])"
      ]
     },
     "execution_count": 92,
     "metadata": {},
     "output_type": "execute_result"
    }
   ],
   "source": [
    "def load_genesis4_h5filegroup(filegroup, path=None):\n",
    "    file, group = parse_genesis4_h5filegroup(filegroup, path=path)\n",
    "    with h5py.File(file) as h5:\n",
    "        data = h5[group][:]\n",
    "    return data\n",
    "load_genesis4_h5filegroup(H5G)"
   ]
  },
  {
   "cell_type": "code",
   "execution_count": null,
   "id": "156ff7ea-8e1c-4597-81e9-e9ebf63b97de",
   "metadata": {},
   "outputs": [],
   "source": [
    "def expand_paths(main_list):\n",
    "    for d in main_list:\n",
    "        if d['type'] == 'profile_file':\n",
    "            \n",
    "    "
   ]
  },
  {
   "cell_type": "code",
   "execution_count": 46,
   "id": "627d5a4d-bfc6-4205-b68b-3e1fa4ca4e87",
   "metadata": {},
   "outputs": [],
   "source": []
  },
  {
   "cell_type": "code",
   "execution_count": 42,
   "id": "d791ce4a-727f-4b30-80f8-c41579695a82",
   "metadata": {},
   "outputs": [
    {
     "ename": "NotADirectoryError",
     "evalue": "[Errno 20] Unable to synchronously open file (unable to open file: name = 'test.h5/g1', errno = 20, error message = 'Not a directory', flags = 0, o_flags = 0)",
     "output_type": "error",
     "traceback": [
      "\u001b[0;31m---------------------------------------------------------------------------\u001b[0m",
      "\u001b[0;31mNotADirectoryError\u001b[0m                        Traceback (most recent call last)",
      "Cell \u001b[0;32mIn[42], line 1\u001b[0m\n\u001b[0;32m----> 1\u001b[0m \u001b[38;5;28;01mwith\u001b[39;00m \u001b[43mh5py\u001b[49m\u001b[38;5;241;43m.\u001b[39;49m\u001b[43mFile\u001b[49m\u001b[43m(\u001b[49m\u001b[38;5;124;43m'\u001b[39;49m\u001b[38;5;124;43mtest.h5/g1\u001b[39;49m\u001b[38;5;124;43m'\u001b[39;49m\u001b[43m,\u001b[49m\u001b[43m \u001b[49m\u001b[38;5;124;43m'\u001b[39;49m\u001b[38;5;124;43mr\u001b[39;49m\u001b[38;5;124;43m'\u001b[39;49m\u001b[43m)\u001b[49m \u001b[38;5;28;01mas\u001b[39;00m h5:\n\u001b[1;32m      2\u001b[0m     \u001b[38;5;28mprint\u001b[39m(h5[\u001b[38;5;124m'\u001b[39m\u001b[38;5;124my\u001b[39m\u001b[38;5;124m'\u001b[39m])\n",
      "File \u001b[0;32m~/Code/mambaforge/envs/devel/lib/python3.9/site-packages/h5py/_hl/files.py:567\u001b[0m, in \u001b[0;36mFile.__init__\u001b[0;34m(self, name, mode, driver, libver, userblock_size, swmr, rdcc_nslots, rdcc_nbytes, rdcc_w0, track_order, fs_strategy, fs_persist, fs_threshold, fs_page_size, page_buf_size, min_meta_keep, min_raw_keep, locking, alignment_threshold, alignment_interval, meta_block_size, **kwds)\u001b[0m\n\u001b[1;32m    558\u001b[0m     fapl \u001b[38;5;241m=\u001b[39m make_fapl(driver, libver, rdcc_nslots, rdcc_nbytes, rdcc_w0,\n\u001b[1;32m    559\u001b[0m                      locking, page_buf_size, min_meta_keep, min_raw_keep,\n\u001b[1;32m    560\u001b[0m                      alignment_threshold\u001b[38;5;241m=\u001b[39malignment_threshold,\n\u001b[1;32m    561\u001b[0m                      alignment_interval\u001b[38;5;241m=\u001b[39malignment_interval,\n\u001b[1;32m    562\u001b[0m                      meta_block_size\u001b[38;5;241m=\u001b[39mmeta_block_size,\n\u001b[1;32m    563\u001b[0m                      \u001b[38;5;241m*\u001b[39m\u001b[38;5;241m*\u001b[39mkwds)\n\u001b[1;32m    564\u001b[0m     fcpl \u001b[38;5;241m=\u001b[39m make_fcpl(track_order\u001b[38;5;241m=\u001b[39mtrack_order, fs_strategy\u001b[38;5;241m=\u001b[39mfs_strategy,\n\u001b[1;32m    565\u001b[0m                      fs_persist\u001b[38;5;241m=\u001b[39mfs_persist, fs_threshold\u001b[38;5;241m=\u001b[39mfs_threshold,\n\u001b[1;32m    566\u001b[0m                      fs_page_size\u001b[38;5;241m=\u001b[39mfs_page_size)\n\u001b[0;32m--> 567\u001b[0m     fid \u001b[38;5;241m=\u001b[39m \u001b[43mmake_fid\u001b[49m\u001b[43m(\u001b[49m\u001b[43mname\u001b[49m\u001b[43m,\u001b[49m\u001b[43m \u001b[49m\u001b[43mmode\u001b[49m\u001b[43m,\u001b[49m\u001b[43m \u001b[49m\u001b[43muserblock_size\u001b[49m\u001b[43m,\u001b[49m\u001b[43m \u001b[49m\u001b[43mfapl\u001b[49m\u001b[43m,\u001b[49m\u001b[43m \u001b[49m\u001b[43mfcpl\u001b[49m\u001b[43m,\u001b[49m\u001b[43m \u001b[49m\u001b[43mswmr\u001b[49m\u001b[38;5;241;43m=\u001b[39;49m\u001b[43mswmr\u001b[49m\u001b[43m)\u001b[49m\n\u001b[1;32m    569\u001b[0m \u001b[38;5;28;01mif\u001b[39;00m \u001b[38;5;28misinstance\u001b[39m(libver, \u001b[38;5;28mtuple\u001b[39m):\n\u001b[1;32m    570\u001b[0m     \u001b[38;5;28mself\u001b[39m\u001b[38;5;241m.\u001b[39m_libver \u001b[38;5;241m=\u001b[39m libver\n",
      "File \u001b[0;32m~/Code/mambaforge/envs/devel/lib/python3.9/site-packages/h5py/_hl/files.py:231\u001b[0m, in \u001b[0;36mmake_fid\u001b[0;34m(name, mode, userblock_size, fapl, fcpl, swmr)\u001b[0m\n\u001b[1;32m    229\u001b[0m     \u001b[38;5;28;01mif\u001b[39;00m swmr \u001b[38;5;129;01mand\u001b[39;00m swmr_support:\n\u001b[1;32m    230\u001b[0m         flags \u001b[38;5;241m|\u001b[39m\u001b[38;5;241m=\u001b[39m h5f\u001b[38;5;241m.\u001b[39mACC_SWMR_READ\n\u001b[0;32m--> 231\u001b[0m     fid \u001b[38;5;241m=\u001b[39m \u001b[43mh5f\u001b[49m\u001b[38;5;241;43m.\u001b[39;49m\u001b[43mopen\u001b[49m\u001b[43m(\u001b[49m\u001b[43mname\u001b[49m\u001b[43m,\u001b[49m\u001b[43m \u001b[49m\u001b[43mflags\u001b[49m\u001b[43m,\u001b[49m\u001b[43m \u001b[49m\u001b[43mfapl\u001b[49m\u001b[38;5;241;43m=\u001b[39;49m\u001b[43mfapl\u001b[49m\u001b[43m)\u001b[49m\n\u001b[1;32m    232\u001b[0m \u001b[38;5;28;01melif\u001b[39;00m mode \u001b[38;5;241m==\u001b[39m \u001b[38;5;124m'\u001b[39m\u001b[38;5;124mr+\u001b[39m\u001b[38;5;124m'\u001b[39m:\n\u001b[1;32m    233\u001b[0m     fid \u001b[38;5;241m=\u001b[39m h5f\u001b[38;5;241m.\u001b[39mopen(name, h5f\u001b[38;5;241m.\u001b[39mACC_RDWR, fapl\u001b[38;5;241m=\u001b[39mfapl)\n",
      "File \u001b[0;32mh5py/_objects.pyx:54\u001b[0m, in \u001b[0;36mh5py._objects.with_phil.wrapper\u001b[0;34m()\u001b[0m\n",
      "File \u001b[0;32mh5py/_objects.pyx:55\u001b[0m, in \u001b[0;36mh5py._objects.with_phil.wrapper\u001b[0;34m()\u001b[0m\n",
      "File \u001b[0;32mh5py/h5f.pyx:106\u001b[0m, in \u001b[0;36mh5py.h5f.open\u001b[0;34m()\u001b[0m\n",
      "\u001b[0;31mNotADirectoryError\u001b[0m: [Errno 20] Unable to synchronously open file (unable to open file: name = 'test.h5/g1', errno = 20, error message = 'Not a directory', flags = 0, o_flags = 0)"
     ]
    }
   ],
   "source": [
    "with h5py.File('test.h5/g1', 'r') as h5:\n",
    "    print(h5['y'])"
   ]
  },
  {
   "cell_type": "code",
   "execution_count": null,
   "id": "3269c4f1-8a6a-491e-a57f-e840b50828e7",
   "metadata": {},
   "outputs": [],
   "source": []
  }
 ],
 "metadata": {
  "kernelspec": {
   "display_name": "Python 3 (ipykernel)",
   "language": "python",
   "name": "python3"
  },
  "language_info": {
   "codemirror_mode": {
    "name": "ipython",
    "version": 3
   },
   "file_extension": ".py",
   "mimetype": "text/x-python",
   "name": "python",
   "nbconvert_exporter": "python",
   "pygments_lexer": "ipython3",
   "version": "3.9.16"
  }
 },
 "nbformat": 4,
 "nbformat_minor": 5
}
