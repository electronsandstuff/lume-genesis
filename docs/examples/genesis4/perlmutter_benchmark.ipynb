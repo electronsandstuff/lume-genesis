{
 "cells": [
  {
   "cell_type": "markdown",
   "id": "d8dd4f41-6f08-4f13-90f1-da494663a3f2",
   "metadata": {},
   "source": [
    "# Genesis4 Benchmark on Perlmutter (NERSC)\n",
    "\n",
    "HPC systems often have special commands to invoke MPI jobs. NERSC uses slurm, which provides `srun` in place of `mpirun`."
   ]
  },
  {
   "cell_type": "code",
   "execution_count": null,
   "id": "1f0bff4d-5a9d-47bc-8049-dc84f90fb881",
   "metadata": {
    "tags": []
   },
   "outputs": [],
   "source": [
    "from genesis.version4 import Genesis4\n",
    "import os"
   ]
  },
  {
   "cell_type": "markdown",
   "id": "f49245e9-2f57-4e60-b56c-50c284d9ea0a",
   "metadata": {},
   "source": [
    "The `MPI_RUN` class attribute needs to be replaced. For convenience, Genesis4 tries to detect NERSC:"
   ]
  },
  {
   "cell_type": "code",
   "execution_count": null,
   "id": "b04c449a-f12e-4dc2-8c69-dd4981662b4b",
   "metadata": {
    "tags": []
   },
   "outputs": [],
   "source": [
    "Genesis4.MPI_RUN"
   ]
  },
  {
   "cell_type": "code",
   "execution_count": null,
   "id": "ad5fccec-2226-4aab-be9c-0c1f3e569c63",
   "metadata": {
    "tags": []
   },
   "outputs": [],
   "source": [
    "Genesis4.WORKDIR"
   ]
  },
  {
   "cell_type": "code",
   "execution_count": null,
   "id": "c0afa322-db1d-49ff-9b17-866981e9ca17",
   "metadata": {
    "tags": []
   },
   "outputs": [],
   "source": [
    "#Genesis4.COMMAND = '/path/to/genesis4'\n",
    "#Genesis4.COMMAND_MPI = '/path/to/genesis4'\n",
    "#WORKDIR = os.path.expandvars('$HOME/Scratch')\n",
    "#Genesis4.MPI_RUN = 'srun -n {nproc} --ntasks-per-node {nproc} -c 1 {command_mpi}'"
   ]
  },
  {
   "cell_type": "markdown",
   "id": "eb4b7cb5-523a-4f37-9e93-0d6682416d3a",
   "metadata": {},
   "source": [
    "Additionally, the working directory must be on the scratch disk:"
   ]
  },
  {
   "cell_type": "markdown",
   "id": "1c4d2faf-8884-4c1c-8570-36b79a6454dd",
   "metadata": {},
   "source": [
    "Instantiate with this workdir:"
   ]
  },
  {
   "cell_type": "code",
   "execution_count": null,
   "id": "db8b98c7-3388-4413-a1a5-cda470041d7e",
   "metadata": {
    "tags": []
   },
   "outputs": [],
   "source": [
    "FILE = 'data/basic4/cu_hxr.in'\n",
    "G = Genesis4(FILE)"
   ]
  },
  {
   "cell_type": "markdown",
   "id": "f7739b58-2eba-47f9-ab23-964955a23cae",
   "metadata": {},
   "source": [
    "Set up the benchmark"
   ]
  },
  {
   "cell_type": "code",
   "execution_count": null,
   "id": "12fb1616-b2a5-4f6f-be9b-45bfcafa6370",
   "metadata": {
    "tags": []
   },
   "outputs": [],
   "source": [
    "G.input['main'][6]['zstop'] = 40"
   ]
  },
  {
   "cell_type": "markdown",
   "id": "6826dbd9-3000-47fb-be20-bc4bcb016f80",
   "metadata": {},
   "source": [
    "Run with MPI"
   ]
  },
  {
   "cell_type": "code",
   "execution_count": null,
   "id": "4853921c-ae79-4979-a3b1-5136e3062d64",
   "metadata": {
    "tags": []
   },
   "outputs": [],
   "source": [
    "%%time\n",
    "G.verbose=False\n",
    "G.nproc = 8\n",
    "G.run()"
   ]
  },
  {
   "cell_type": "markdown",
   "id": "6977f6ce-d1dd-4b5a-9aa2-961b4cf33045",
   "metadata": {},
   "source": [
    "# Timing"
   ]
  },
  {
   "cell_type": "code",
   "execution_count": null,
   "id": "a4ad10e9-20f9-45a3-906d-f251b2b62418",
   "metadata": {
    "tags": []
   },
   "outputs": [],
   "source": [
    "MAX_CPUS = os.cpu_count()\n",
    "MAX_CPUS"
   ]
  },
  {
   "cell_type": "code",
   "execution_count": null,
   "id": "de42f7d0-128e-421c-b537-d420c431fc49",
   "metadata": {
    "tags": []
   },
   "outputs": [],
   "source": [
    "import time\n",
    "def time1(nproc):\n",
    "    t1 = time.time()\n",
    "    G.verbose=False\n",
    "    G.nproc = nproc\n",
    "    G.run()\n",
    "    dt = time.time() - t1\n",
    "    return dt\n",
    "\n",
    "#time1(MAX_CPUS)"
   ]
  },
  {
   "cell_type": "code",
   "execution_count": null,
   "id": "6d45e8da-c1b9-4220-972a-02b45048b662",
   "metadata": {
    "tags": []
   },
   "outputs": [],
   "source": [
    "%%time\n",
    "nlist = []\n",
    "tlist = []\n",
    "n_cpu = MAX_CPUS\n",
    "while n_cpu > 0:\n",
    "    n = n_cpu\n",
    "    nlist.append(n)\n",
    "    dt = time1(n)\n",
    "    tlist.append(dt)\n",
    "    print(f'{n} cores, {dt:0.1f} s')\n",
    "    n_cpu = n_cpu //2"
   ]
  },
  {
   "cell_type": "code",
   "execution_count": null,
   "id": "66ef8329-ed98-4419-a622-9500a6d058be",
   "metadata": {},
   "outputs": [],
   "source": [
    "nlist, tlist"
   ]
  },
  {
   "cell_type": "markdown",
   "id": "824786b8-4306-4949-a921-d9096c12da2d",
   "metadata": {},
   "source": [
    "# Some saved stats"
   ]
  },
  {
   "cell_type": "code",
   "execution_count": null,
   "id": "ada509b6-bd93-4cbd-b0d3-78f1d6e7d3aa",
   "metadata": {},
   "outputs": [],
   "source": [
    "import numpy as np\n",
    "import matplotlib.pyplot as plt\n",
    "%config InlineBackend.figure_format = 'retina'\n",
    "\n",
    "# Perlmutter\n",
    "nlist, tlist = ([256, 128, 64, 32, 16, 8, 4, 2, 1],\n",
    " [11.364259004592896,\n",
    "  8.756781578063965,\n",
    "  15.518342971801758,\n",
    "  27.61109709739685,\n",
    "  48.553008794784546,\n",
    "  95.51237463951111,\n",
    "  182.06347823143005,\n",
    "  361.24336671829224,\n",
    "  556.2742402553558])\n",
    "nlist = np.array(nlist)[::-1]\n",
    "tlist = np.array(tlist)[::-1]\n",
    "\n",
    "tref = tlist[0]\n",
    "\n",
    "# M1 Max \n",
    "nlistmac, tlistmac =([8, 4, 2, 1],\n",
    " [38.151074171066284,\n",
    "  75.41113114356995,\n",
    "  146.3512842655182,\n",
    "  285.11587405204773])\n",
    "nlistmac = np.array(nlistmac)\n",
    "tlistmac = np.array(tlistmac)\n",
    "\n",
    "\n",
    "\n",
    "plt.plot(nlist, tlist/tref, marker='.', label='Genesis4 Perlmutter')\n",
    "plt.plot(nlistmac, tlistmac/tref,  marker='.', label='Genesis4 M1 Max')\n",
    "plt.plot(nlist,  1/(nlist/nlist[0]), '--', label='ideal')\n",
    "plt.xscale('log')\n",
    "plt.yscale('log')\n",
    "plt.xlabel('n cores')\n",
    "plt.ylabel('run time (normalized)')\n",
    "plt.legend()"
   ]
  }
 ],
 "metadata": {
  "kernelspec": {
   "display_name": "Python 3 (ipykernel)",
   "language": "python",
   "name": "python3"
  },
  "language_info": {
   "codemirror_mode": {
    "name": "ipython",
    "version": 3
   },
   "file_extension": ".py",
   "mimetype": "text/x-python",
   "name": "python",
   "nbconvert_exporter": "python",
   "pygments_lexer": "ipython3",
   "version": "3.9.16"
  }
 },
 "nbformat": 4,
 "nbformat_minor": 5
}
