{
 "cells": [
  {
   "cell_type": "markdown",
   "id": "d8dd4f41-6f08-4f13-90f1-da494663a3f2",
   "metadata": {},
   "source": [
    "# Genesis4 Class"
   ]
  },
  {
   "cell_type": "code",
   "execution_count": 1,
   "id": "fead0eac-617e-4b70-a3e5-3697b506e18a",
   "metadata": {},
   "outputs": [],
   "source": [
    "# Useful for debugging\n",
    "%load_ext autoreload\n",
    "%autoreload 2\n"
   ]
  },
  {
   "cell_type": "code",
   "execution_count": 2,
   "id": "1f0bff4d-5a9d-47bc-8049-dc84f90fb881",
   "metadata": {},
   "outputs": [],
   "source": [
    "from genesis.version4 import Genesis4"
   ]
  },
  {
   "cell_type": "markdown",
   "id": "1c4d2faf-8884-4c1c-8570-36b79a6454dd",
   "metadata": {},
   "source": [
    "Instantiate the object on a value init file. This will configure a working directory that stages all input and output files."
   ]
  },
  {
   "cell_type": "code",
   "execution_count": 3,
   "id": "db8b98c7-3388-4413-a1a5-cda470041d7e",
   "metadata": {},
   "outputs": [
    {
     "name": "stdout",
     "output_type": "stream",
     "text": [
      "Configured to run in: /var/folders/2f/l5_mybzs30j4qqvyj98w1_nw0000gn/T/tmpvwdnxea8\n"
     ]
    }
   ],
   "source": [
    "FILE = '../examples/data/basic4/cu_hxr.in'\n",
    "\n",
    "G = Genesis4(FILE, verbose = True)"
   ]
  },
  {
   "cell_type": "markdown",
   "id": "f7739b58-2eba-47f9-ab23-964955a23cae",
   "metadata": {},
   "source": [
    "Input is simply a list of dicts corresponding to the namelist"
   ]
  },
  {
   "cell_type": "code",
   "execution_count": 4,
   "id": "fdaa867d-c3c0-4136-b22c-fe156397d567",
   "metadata": {},
   "outputs": [
    {
     "data": {
      "text/plain": [
       "{'main': [{'type': 'setup',\n",
       "   'rootname': 'LCLS2_HXR_9keV',\n",
       "   'lattice': '/Users/chrisonian/Code/GitHub/lume-genesis/examples/data/basic4/hxr.lat',\n",
       "   'beamline': 'HXR',\n",
       "   'lambda0': 1.3789244869952112e-10,\n",
       "   'gamma0': 19174.0776,\n",
       "   'delz': 0.026,\n",
       "   'seed': 84672,\n",
       "   'npart': 1024},\n",
       "  {'type': 'time', 'slen': 1.5e-05, 'sample': 200},\n",
       "  {'type': 'field', 'dgrid': 0.0001, 'ngrid': 101, 'accumulate': True},\n",
       "  {'type': 'profile_file',\n",
       "   'label': 'beamcurrent',\n",
       "   'xdata': array([0.00000000e+00, 7.50037502e-10, 1.50007500e-09, ...,\n",
       "          1.49984999e-05, 1.49992500e-05, 1.50000000e-05]),\n",
       "   'ydata': array([2.65147892, 2.65521019, 2.65894633, ..., 2.65894633, 2.65521019,\n",
       "          2.65147892])},\n",
       "  {'type': 'profile_file',\n",
       "   'label': 'beamgamma',\n",
       "   'xdata': array([0.00000000e+00, 7.50037502e-10, 1.50007500e-09, ...,\n",
       "          1.49984999e-05, 1.49992500e-05, 1.50000000e-05]),\n",
       "   'ydata': array([19394.23415577, 19394.21213902, 19394.19012226, ...,\n",
       "          18953.96507774, 18953.94306098, 18953.92104423])},\n",
       "  {'type': 'beam',\n",
       "   'current': '@beamcurrent',\n",
       "   'gamma': '@beamgamma',\n",
       "   'delgam': 3.97848,\n",
       "   'ex': 4e-07,\n",
       "   'ey': 4e-07,\n",
       "   'alphax': -0.7393217413918415,\n",
       "   'betax': 7.910909406464387,\n",
       "   'alphay': 1.3870723536888105,\n",
       "   'betay': 16.881178621346898},\n",
       "  {'type': 'track', 'field_dump_at_undexit': False, 'zstop': 10}]}"
      ]
     },
     "execution_count": 4,
     "metadata": {},
     "output_type": "execute_result"
    }
   ],
   "source": [
    "G.input"
   ]
  },
  {
   "cell_type": "markdown",
   "id": "6826dbd9-3000-47fb-be20-bc4bcb016f80",
   "metadata": {},
   "source": [
    "Run with MPI"
   ]
  },
  {
   "cell_type": "code",
   "execution_count": 5,
   "id": "4853921c-ae79-4979-a3b1-5136e3062d64",
   "metadata": {},
   "outputs": [
    {
     "name": "stdout",
     "output_type": "stream",
     "text": [
      "Setting use_mpi = True because nproc = 8\n",
      "Running Genesis4 in /var/folders/2f/l5_mybzs30j4qqvyj98w1_nw0000gn/T/tmpbqyo9sdl\n",
      "/opt/local/bin/mpirun -n 8 /Users/chrisonian/Code/GitHub/Genesis-1.3-Version4/build/genesis4 genesis4.in\n",
      "---------------------------------------------\n",
      "GENESIS - Version 4.6.2 (beta) has started...\n",
      "Compile info: Compiled by chrisonian at 2023-02-16 20:48:14 [UTC] from Git Commit ID: babc4431d0aba1ecdad371816418713fdff0af53\n",
      "Starting Time: Sat Feb 18 18:05:23 2023\n",
      "\n",
      "MPI-Comm Size: 8 nodes\n",
      "\n",
      "Parsing lattice file...\n",
      "Setting up time window of 15.0027 microns with 544 sample points...\n",
      "Generating input radiation field for HARM = 1 ...\n",
      "Adding profile with label: beamcurrent\n",
      "Adding profile with label: beamgamma\n",
      "Generating input particle distribution...\n",
      "\n",
      "Running Core Simulation...\n",
      "Time-dependent run with 544 slices for a time window of 15.0027 microns\n",
      "Initial analysis of electron beam and radiation field...\n",
      "  Calculation: 10% done\n",
      "  Calculation: 20% done\n",
      "  Calculation: 30% done\n",
      "  Calculation: 40% done\n",
      "  Calculation: 50% done\n",
      "  Calculation: 60% done\n",
      "  Calculation: 70% done\n",
      "  Calculation: 80% done\n",
      "  Calculation: 90% done\n",
      "  Calculation: 100% done\n",
      "Calculation terminated due to requested stop.\n",
      "Writing output file...\n",
      "\n",
      "Core Simulation done.\n",
      "End of Track\n",
      "\n",
      "Program is terminating...\n",
      "Ending Time: Sat Feb 18 18:05:34 2023\n",
      "Total Wall Clock Time: 11.1483 seconds\n",
      "-------------------------------------\n",
      "Finished.\n"
     ]
    }
   ],
   "source": [
    "G = Genesis4(FILE)\n",
    "G.verbose = True\n",
    "G.nproc = 8\n",
    "G.run()"
   ]
  },
  {
   "cell_type": "markdown",
   "id": "09d65d50-26c8-4b38-96b9-8fc40b422295",
   "metadata": {},
   "source": [
    "## Output\n",
    "\n",
    "The main output is an HDF5. The Genesis4 object loads this data into a flat dict"
   ]
  },
  {
   "cell_type": "code",
   "execution_count": 6,
   "id": "1ff02fea-005b-4964-b3ab-5f24a063213a",
   "metadata": {},
   "outputs": [
    {
     "data": {
      "text/plain": [
       "dict_keys(['run_info', 'outfile', 'Beam/LSCfield', 'Beam/alphax', 'Beam/alphay', 'Beam/betax', 'Beam/betay', 'Beam/bunching', 'Beam/bunchingphase', 'Beam/current', 'Beam/efield', 'Beam/emitx', 'Beam/emity', 'Beam/energy', 'Beam/energyspread', 'Beam/pxposition', 'Beam/pyposition', 'Beam/wakefield', 'Beam/xposition', 'Beam/xsize', 'Beam/yposition', 'Beam/ysize', 'Field/dgrid', 'Field/intensity-farfield', 'Field/intensity-nearfield', 'Field/ngrid', 'Field/phase-farfield', 'Field/phase-nearfield', 'Field/power', 'Field/xposition', 'Field/xsize', 'Field/yposition', 'Field/ysize', 'Global/frequency', 'Global/gamma0', 'Global/lambdaref', 'Global/one4one', 'Global/s', 'Global/sample', 'Global/scan', 'Global/slen', 'Global/time', 'Lattice/aw', 'Lattice/ax', 'Lattice/ay', 'Lattice/chic_angle', 'Lattice/chic_lb', 'Lattice/chic_ld', 'Lattice/chic_lt', 'Lattice/cx', 'Lattice/cy', 'Lattice/dz', 'Lattice/gradx', 'Lattice/grady', 'Lattice/ku', 'Lattice/kx', 'Lattice/ky', 'Lattice/phaseshift', 'Lattice/qf', 'Lattice/qx', 'Lattice/qy', 'Lattice/slippage', 'Lattice/z', 'Lattice/zplot', 'Meta/Beamdumps/ndumps', 'Meta/Fielddumps/ndumps', 'Meta/HOST', 'Meta/InputFile', 'Meta/LatticeFile', 'Meta/TimeStamp', 'Meta/User', 'Meta/Version/Beta', 'Meta/Version/Build_Info', 'Meta/Version/Major', 'Meta/Version/Minor', 'Meta/Version/Revision', 'Meta/cwd', 'Meta/mpisize'])"
      ]
     },
     "execution_count": 6,
     "metadata": {},
     "output_type": "execute_result"
    }
   ],
   "source": [
    "G.output.keys()"
   ]
  },
  {
   "cell_type": "markdown",
   "id": "9976d881-b66d-47a9-9285-177e6fe1e64d",
   "metadata": {},
   "source": [
    "## Units\n",
    "\n",
    "Each item in the output dict has a corresponding units"
   ]
  },
  {
   "cell_type": "code",
   "execution_count": 7,
   "id": "1448f5cc-ce26-4119-89ae-39399cf9ca71",
   "metadata": {},
   "outputs": [
    {
     "data": {
      "text/plain": [
       "pmd_unit('m', 1, (1, 0, 0, 0, 0, 0, 0))"
      ]
     },
     "execution_count": 7,
     "metadata": {},
     "output_type": "execute_result"
    }
   ],
   "source": [
    "G.units('Beam/betax')"
   ]
  },
  {
   "cell_type": "markdown",
   "id": "8e0ddd4c-c553-42ea-9af1-b41318d4fdc0",
   "metadata": {},
   "source": [
    "## Archiving"
   ]
  },
  {
   "cell_type": "code",
   "execution_count": 8,
   "id": "29ff0bb2-0bea-4d5d-9076-4b10e467ee9b",
   "metadata": {},
   "outputs": [
    {
     "name": "stdout",
     "output_type": "stream",
     "text": [
      "Archiving to file genesis4_6c258b0d113ef33869a8cfdcd3685074.h5\n"
     ]
    }
   ],
   "source": [
    "afile = G.archive()"
   ]
  },
  {
   "cell_type": "code",
   "execution_count": 9,
   "id": "c96b5f84-5122-4d72-bcf6-0e108df1dad6",
   "metadata": {},
   "outputs": [
    {
     "name": "stdout",
     "output_type": "stream",
     "text": [
      "from_archive is not implemented\n"
     ]
    }
   ],
   "source": [
    "# This is not yet implemented\n",
    "try:\n",
    "    G.from_archive(afile)\n",
    "except NotImplementedError:\n",
    "    print('from_archive is not implemented')"
   ]
  },
  {
   "cell_type": "markdown",
   "id": "d586358b-8fec-41f8-8033-aeb0eb0690bc",
   "metadata": {},
   "source": [
    "# Plotting"
   ]
  },
  {
   "cell_type": "code",
   "execution_count": 10,
   "id": "5a7706c8-f279-4bb8-b27d-7e9064783aed",
   "metadata": {},
   "outputs": [],
   "source": [
    "import matplotlib.pyplot as plt"
   ]
  },
  {
   "cell_type": "code",
   "execution_count": 11,
   "id": "231f73d0-3655-4a50-b40f-9790661e5c8c",
   "metadata": {},
   "outputs": [
    {
     "data": {
      "text/plain": [
       "<matplotlib.image.AxesImage at 0x11eb2bd30>"
      ]
     },
     "execution_count": 11,
     "metadata": {},
     "output_type": "execute_result"
    },
    {
     "data": {
      "image/png": "[encoded data removed]",
      "text/plain": [
       "<Figure size 640x480 with 1 Axes>"
      ]
     },
     "metadata": {},
     "output_type": "display_data"
    }
   ],
   "source": [
    "plt.imshow(G.output['Field/power'])"
   ]
  }
 ],
 "metadata": {
  "kernelspec": {
   "display_name": "Python 3 (ipykernel)",
   "language": "python",
   "name": "python3"
  },
  "language_info": {
   "codemirror_mode": {
    "name": "ipython",
    "version": 3
   },
   "file_extension": ".py",
   "mimetype": "text/x-python",
   "name": "python",
   "nbconvert_exporter": "python",
   "pygments_lexer": "ipython3",
   "version": "3.9.16"
  }
 },
 "nbformat": 4,
 "nbformat_minor": 5
}
