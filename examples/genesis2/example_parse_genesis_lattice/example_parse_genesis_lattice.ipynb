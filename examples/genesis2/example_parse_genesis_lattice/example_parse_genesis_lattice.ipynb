{
 "cells": [
  {
   "cell_type": "markdown",
   "metadata": {},
   "source": [
    "# Parsing original Genesis lattice into a standard lattice"
   ]
  },
  {
   "cell_type": "code",
   "execution_count": 1,
   "metadata": {
    "execution": {
     "iopub.execute_input": "2023-02-20T05:27:28.188924Z",
     "iopub.status.busy": "2023-02-20T05:27:28.188589Z",
     "iopub.status.idle": "2023-02-20T05:27:28.936906Z",
     "shell.execute_reply": "2023-02-20T05:27:28.935791Z"
    }
   },
   "outputs": [],
   "source": [
    "from genesis import parsers, lattice"
   ]
  },
  {
   "cell_type": "code",
   "execution_count": 2,
   "metadata": {
    "execution": {
     "iopub.execute_input": "2023-02-20T05:27:28.940895Z",
     "iopub.status.busy": "2023-02-20T05:27:28.940453Z",
     "iopub.status.idle": "2023-02-20T05:27:28.953181Z",
     "shell.execute_reply": "2023-02-20T05:27:28.952428Z"
    }
   },
   "outputs": [
    {
     "data": {
      "text/plain": [
       "dict_keys(['eles', 'param'])"
      ]
     },
     "execution_count": 2,
     "metadata": {},
     "output_type": "execute_result"
    }
   ],
   "source": [
    "# Read a raw genesis-style lattice as elements and parameters\n",
    "genesis_lat = 'data/lcls.lat'\n",
    "lat = parsers.parse_genesis_lattice(genesis_lat)\n",
    "lat.keys()"
   ]
  },
  {
   "cell_type": "code",
   "execution_count": 3,
   "metadata": {
    "execution": {
     "iopub.execute_input": "2023-02-20T05:27:29.001566Z",
     "iopub.status.busy": "2023-02-20T05:27:29.000574Z",
     "iopub.status.idle": "2023-02-20T05:27:29.116757Z",
     "shell.execute_reply": "2023-02-20T05:27:29.115735Z"
    }
   },
   "outputs": [],
   "source": [
    "?lattice.standard_eles_from_eles"
   ]
  },
  {
   "cell_type": "code",
   "execution_count": 4,
   "metadata": {
    "execution": {
     "iopub.execute_input": "2023-02-20T05:27:29.120924Z",
     "iopub.status.busy": "2023-02-20T05:27:29.120283Z",
     "iopub.status.idle": "2023-02-20T05:27:29.131034Z",
     "shell.execute_reply": "2023-02-20T05:27:29.130054Z"
    }
   },
   "outputs": [
    {
     "data": {
      "text/plain": [
       "[{'type': 'AW', 'strength': 2.4749, 'L': 112.0, 's': 112.0},\n",
       " {'type': 'QF', 'strength': -17.5, 'L': 8.0, 's': 128.0},\n",
       " {'type': 'AW', 'strength': 2.4749, 'L': 112.0, 's': 240.0},\n",
       " {'type': 'QF', 'strength': 17.5, 'L': 8.0, 's': 256.0},\n",
       " {'type': 'AW', 'strength': 2.4749, 'L': 112.0, 's': 384.0},\n",
       " {'type': 'QF', 'strength': -17.5, 'L': 8.0, 's': 400.0},\n",
       " {'type': 'AW', 'strength': 2.4749, 'L': 112.0, 's': 512.0},\n",
       " {'type': 'QF', 'strength': 17.5, 'L': 8.0, 's': 528.0},\n",
       " {'type': 'AW', 'strength': 2.4749, 'L': 112.0, 's': 640.0},\n",
       " {'type': 'QF', 'strength': -17.5, 'L': 8.0, 's': 656.0}]"
      ]
     },
     "execution_count": 4,
     "metadata": {},
     "output_type": "execute_result"
    }
   ],
   "source": [
    "# Form a standard lattice from these\n",
    "lat['eles'] = lattice.standard_eles_from_eles(lat['eles'])\n",
    "lat['eles'][:10]"
   ]
  },
  {
   "cell_type": "code",
   "execution_count": 5,
   "metadata": {
    "execution": {
     "iopub.execute_input": "2023-02-20T05:27:29.134514Z",
     "iopub.status.busy": "2023-02-20T05:27:29.134250Z",
     "iopub.status.idle": "2023-02-20T05:27:29.149328Z",
     "shell.execute_reply": "2023-02-20T05:27:29.148482Z"
    }
   },
   "outputs": [
    {
     "data": {
      "text/plain": [
       "[{'type': 'AW', 'strength': 2.4749, 'L': 112.0, 's': 112.0, 'name': 'AW_1'},\n",
       " {'type': 'QF', 'strength': -17.5, 'L': 8.0, 's': 128.0, 'name': 'QF_1'},\n",
       " {'type': 'AW', 'strength': 2.4749, 'L': 112.0, 's': 240.0, 'name': 'AW_2'},\n",
       " {'type': 'QF', 'strength': 17.5, 'L': 8.0, 's': 256.0, 'name': 'QF_2'},\n",
       " {'type': 'AW', 'strength': 2.4749, 'L': 112.0, 's': 384.0, 'name': 'AW_3'},\n",
       " {'type': 'QF', 'strength': -17.5, 'L': 8.0, 's': 400.0, 'name': 'QF_3'},\n",
       " {'type': 'AW', 'strength': 2.4749, 'L': 112.0, 's': 512.0, 'name': 'AW_4'},\n",
       " {'type': 'QF', 'strength': 17.5, 'L': 8.0, 's': 528.0, 'name': 'QF_4'},\n",
       " {'type': 'AW', 'strength': 2.4749, 'L': 112.0, 's': 640.0, 'name': 'AW_5'},\n",
       " {'type': 'QF', 'strength': -17.5, 'L': 8.0, 's': 656.0, 'name': 'QF_5'}]"
      ]
     },
     "execution_count": 5,
     "metadata": {},
     "output_type": "execute_result"
    }
   ],
   "source": [
    "# Invent names for these \n",
    "lattice.create_names(lat['eles'])\n",
    "lat['eles'][:10]"
   ]
  },
  {
   "cell_type": "code",
   "execution_count": 6,
   "metadata": {
    "execution": {
     "iopub.execute_input": "2023-02-20T05:27:29.152714Z",
     "iopub.status.busy": "2023-02-20T05:27:29.152443Z",
     "iopub.status.idle": "2023-02-20T05:27:29.161537Z",
     "shell.execute_reply": "2023-02-20T05:27:29.160521Z"
    }
   },
   "outputs": [
    {
     "name": "stdout",
     "output_type": "stream",
     "text": [
      "? VERSION = 1\n",
      "? UNITLENGTH = 0.03 # meters\n",
      "\n",
      "#------------\n",
      "# AW\n",
      "AW 2.4749 112.0 0.0\n",
      "AW 0 16.0 0.0\n",
      "AW 2.4749 112.0 0.0\n",
      "AW 0 32.0 0.0\n",
      "AW 2.4749 112.0 0.0\n",
      "AW 0 16.0 0.0\n",
      "AW 2.4749 112.0 0.0\n",
      "AW 0 16.0 0.0\n",
      "AW 2.4749 112.0 0.0\n",
      "AW 0 32.0 0.0\n",
      "AW 2.4749 112.0 0.0\n",
      "AW 0 16.0 0.0\n",
      "AW 2.4749 112.0 0.0\n",
      "AW 0 16.0 0.0\n",
      "AW 2.4749 112.0 0.0\n",
      "AW 0 32.0 0.0\n",
      "AW 2.4749 112.0 0.0\n",
      "AW 0 16.0 0.0\n",
      "AW 2.4749 112.0 0.0\n",
      "AW 0 16.0 0.0\n",
      "AW 2.4749 112.0 0.0\n",
      "AW 0 32.0 0.0\n",
      "AW 2.4749 112.0 0.0\n",
      "AW 0 16.0 0.0\n",
      "AW 2.4749 112.0 0.0\n",
      "AW 0 16.0 0.0\n",
      "AW 2.4749 112.0 0.0\n",
      "AW 0 32.0 0.0\n",
      "AW 2.4749 112.0 0.0\n",
      "AW 0 16.0 0.0\n",
      "AW 2.4749 112.0 0.0\n",
      "AW 0 16.0 0.0\n",
      "AW 2.4749 112.0 0.0\n",
      "AW 0 32.0 0.0\n",
      "AW 2.4749 112.0 0.0\n",
      "AW 0 16.0 0.0\n",
      "AW 2.4749 112.0 0.0\n",
      "AW 0 16.0 0.0\n",
      "AW 2.4749 112.0 0.0\n",
      "AW 0 32.0 0.0\n",
      "AW 2.4749 112.0 0.0\n",
      "AW 0 16.0 0.0\n",
      "AW 2.4749 112.0 0.0\n",
      "AW 0 16.0 0.0\n",
      "AW 2.4749 112.0 0.0\n",
      "AW 0 32.0 0.0\n",
      "AW 2.4749 112.0 0.0\n",
      "AW 0 16.0 0.0\n",
      "AW 2.4749 112.0 0.0\n",
      "AW 0 16.0 0.0\n",
      "AW 2.4749 112.0 0.0\n",
      "AW 0 32.0 0.0\n",
      "AW 2.4749 112.0 0.0\n",
      "AW 0 16.0 0.0\n",
      "AW 2.4749 112.0 0.0\n",
      "AW 0 16.0 0.0\n",
      "AW 2.4749 112.0 0.0\n",
      "AW 0 32.0 0.0\n",
      "AW 2.4749 112.0 0.0\n",
      "AW 0 16.0 0.0\n",
      "AW 2.4749 112.0 0.0\n",
      "AW 0 16.0 0.0\n",
      "AW 2.4749 112.0 0.0\n",
      "AW 0 32.0 0.0\n",
      "AW 2.4749 112.0 0.0\n",
      "AW 0 16.0 0.0\n",
      "AW 2.4749 112.0 0.0\n",
      "AW 0 16.0 0.0\n",
      "AW 2.4749 112.0 0.0\n",
      "AW 0 32.0 0.0\n",
      "AW 2.4749 112.0 0.0\n",
      "AW 0 16.0 0.0\n",
      "AW 2.4749 112.0 0.0\n",
      "AW 0 688.0 0.0\n",
      "\n",
      "#------------\n",
      "# QF\n",
      "QF -17.5 8.0 120.0\n",
      "QF 0 120.0 0.0\n",
      "QF 17.5 8.0 0.0\n",
      "QF 0 136.0 0.0\n",
      "QF -17.5 8.0 0.0\n",
      "QF 0 120.0 0.0\n",
      "QF 17.5 8.0 0.0\n",
      "QF 0 120.0 0.0\n",
      "QF -17.5 8.0 0.0\n",
      "QF 0 136.0 0.0\n",
      "QF 17.5 8.0 0.0\n",
      "QF 0 120.0 0.0\n",
      "QF -17.5 8.0 0.0\n",
      "QF 0 120.0 0.0\n",
      "QF 17.5 8.0 0.0\n",
      "QF 0 136.0 0.0\n",
      "QF -17.5 8.0 0.0\n",
      "QF 0 120.0 0.0\n",
      "QF 17.5 8.0 0.0\n",
      "QF 0 120.0 0.0\n",
      "QF -17.5 8.0 0.0\n",
      "QF 0 136.0 0.0\n",
      "QF 17.5 8.0 0.0\n",
      "QF 0 120.0 0.0\n",
      "QF -17.5 8.0 0.0\n",
      "QF 0 120.0 0.0\n",
      "QF 17.5 8.0 0.0\n",
      "QF 0 136.0 0.0\n",
      "QF -17.5 8.0 0.0\n",
      "QF 0 120.0 0.0\n",
      "QF 17.5 8.0 0.0\n",
      "QF 0 120.0 0.0\n",
      "QF -17.5 8.0 0.0\n",
      "QF 0 136.0 0.0\n",
      "QF 17.5 8.0 0.0\n",
      "QF 0 120.0 0.0\n",
      "QF -17.5 8.0 0.0\n",
      "QF 0 120.0 0.0\n",
      "QF 17.5 8.0 0.0\n",
      "QF 0 136.0 0.0\n",
      "QF -17.5 8.0 0.0\n",
      "QF 0 120.0 0.0\n",
      "QF 17.5 8.0 0.0\n",
      "QF 0 120.0 0.0\n",
      "QF -17.5 8.0 0.0\n",
      "QF 0 136.0 0.0\n",
      "QF 17.5 8.0 0.0\n",
      "QF 0 120.0 0.0\n",
      "QF -17.5 8.0 0.0\n",
      "QF 0 120.0 0.0\n",
      "QF 17.5 8.0 0.0\n",
      "QF 0 136.0 0.0\n",
      "QF -17.5 8.0 0.0\n",
      "QF 0 120.0 0.0\n",
      "QF 17.5 8.0 0.0\n",
      "QF 0 120.0 0.0\n",
      "QF -17.5 8.0 0.0\n",
      "QF 0 136.0 0.0\n",
      "QF 17.5 8.0 0.0\n",
      "QF 0 120.0 0.0\n",
      "QF -17.5 8.0 0.0\n",
      "QF 0 120.0 0.0\n",
      "QF 17.5 8.0 0.0\n",
      "QF 0 136.0 0.0\n",
      "QF -17.5 8.0 0.0\n",
      "QF 0 120.0 0.0\n",
      "QF 17.5 8.0 0.0\n",
      "QF 0 120.0 0.0\n",
      "QF -17.5 8.0 0.0\n",
      "QF 0 136.0 0.0\n",
      "QF 17.5 8.0 0.0\n",
      "QF 0 120.0 0.0\n",
      "QF -17.5 8.0 0.0\n",
      "QF 0 120.0 0.0\n",
      "QF 17.5 8.0 0.0\n",
      "QF 0 136.0 0.0\n",
      "QF -17.5 8.0 0.0\n",
      "QF 0 120.0 0.0\n",
      "QF 17.5 8.0 0.0\n",
      "QF 0 120.0 0.0\n",
      "QF -17.5 8.0 0.0\n",
      "QF 0 136.0 0.0\n",
      "QF 17.5 8.0 0.0\n"
     ]
    }
   ],
   "source": [
    "# Form original Genesis lattice\n",
    "lines = lattice.genesis_lattice_from_standard_lattice(lat)\n",
    "print('\\n'.join(lines))"
   ]
  }
 ],
 "metadata": {
  "kernelspec": {
   "display_name": "Python 3 (ipykernel)",
   "language": "python",
   "name": "python3"
  },
  "language_info": {
   "codemirror_mode": {
    "name": "ipython",
    "version": 3
   },
   "file_extension": ".py",
   "mimetype": "text/x-python",
   "name": "python",
   "nbconvert_exporter": "python",
   "pygments_lexer": "ipython3",
   "version": "3.9.16"
  }
 },
 "nbformat": 4,
 "nbformat_minor": 4
}
